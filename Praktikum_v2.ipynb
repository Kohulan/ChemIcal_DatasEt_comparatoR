{
 "cells": [
  {
   "cell_type": "code",
   "execution_count": 1,
   "id": "ae09f82b",
   "metadata": {},
   "outputs": [
    {
     "data": {
      "text/plain": [
       "'creat a conda env. and run\\n\\n!pip install\\nlibrary ==version_number in the beginning'"
      ]
     },
     "execution_count": 1,
     "metadata": {},
     "output_type": "execute_result"
    }
   ],
   "source": [
    "\"\"\"creat a conda env. and run\n",
    "\n",
    "!pip install\n",
    "library ==version_number in the beginning\"\"\""
   ]
  },
  {
   "cell_type": "markdown",
   "id": "5d27c5a5",
   "metadata": {},
   "source": [
    "## Import Libraries and Check for Version"
   ]
  },
  {
   "cell_type": "code",
   "execution_count": 2,
   "id": "ce27cd48",
   "metadata": {},
   "outputs": [],
   "source": [
    "'''Import of Libraries -> Versions!!'''\n",
    "\n",
    "from rdkit import Chem\n",
    "from rdkit.Chem import AllChem\n",
    "from rdkit.Chem import Descriptors\n",
    "from rdkit.Chem import Draw\n",
    "\n",
    "import seaborn as sns\n",
    "\n",
    "import pandas as pd\n",
    "\n",
    "import numpy as np\n",
    "\n",
    "import os\n",
    "\n",
    "import matplotlib\n",
    "import matplotlib.pyplot as plt\n",
    "\n",
    "\n",
    "from matplotlib_venn import venn2\n",
    "from matplotlib_venn import venn3\n",
    "\n",
    "import platform\n",
    "\n",
    "from rdkit import rdBase\n"
   ]
  },
  {
   "cell_type": "code",
   "execution_count": 3,
   "id": "71f80a0d",
   "metadata": {},
   "outputs": [
    {
     "name": "stdout",
     "output_type": "stream",
     "text": [
      "Python Version: 3.7.10\n",
      "Pandas Version: 1.3.2\n",
      "Seaborn Version: 0.11.2\n",
      "RDKit Version: 2021.03.5\n",
      "Operating System (OS): Windows-10-10.0.22000-SP0\n",
      "Mathplotlib Version: 3.4.3\n",
      "Numpy Version: 1.21.2\n"
     ]
    }
   ],
   "source": [
    "\"\"\"\n",
    "Version here used\n",
    "\n",
    "Python Version: 3.7.11\n",
    "Pandas Version: 1.3.4\n",
    "Seaborn Version: 0.11.2\n",
    "RDKit Version: 2020.09.1\n",
    "Operating System (OS): Windows-10-10.0.19041-SP0\n",
    "Mathplotlib Version: 3.5.0\n",
    "Numpy Version: 1.21.2\n",
    "\"\"\"\n",
    "\n",
    "print(\"Python Version: \" + platform.python_version())\n",
    "\n",
    "print(\"Pandas Version: \" + pd.__version__)\n",
    "print(\"Seaborn Version: \" + sns.__version__)\n",
    "\n",
    "print(\"RDKit Version: \" + rdBase.rdkitVersion )\n",
    "\n",
    "print(\"Operating System (OS): \" + platform.platform())\n",
    "\n",
    "print(\"Mathplotlib Version: \" + matplotlib.__version__)\n",
    "\n",
    "print(\"Numpy Version: \" + np.__version__)"
   ]
  },
  {
   "cell_type": "markdown",
   "id": "055a1aed",
   "metadata": {},
   "source": [
    "## Import Data from SDFiles"
   ]
  },
  {
   "cell_type": "code",
   "execution_count": 4,
   "id": "bafd319c",
   "metadata": {},
   "outputs": [
    {
     "data": {
      "text/plain": [
       "dict_keys(['RDMolFile'])"
      ]
     },
     "execution_count": 4,
     "metadata": {},
     "output_type": "execute_result"
    }
   ],
   "source": [
    "def import_as_data_dict(path_to_data: str) -> dict:\n",
    "    \"\"\"\n",
    "    This function returns a Dictionary with the imported File Names (Keys) as its own dictionary with \n",
    "    the first entry as 'RDMolFile' (Key) and the SDMolSupplier Objects (Value).\n",
    "    \n",
    "    Args:\n",
    "        path_to_data (str): Path to the directory where the SDFiles are stored.\n",
    "        \n",
    "    Returns:\n",
    "        dict{dict}: Dictionary of dictionaries for every dataset\n",
    "    \"\"\" \n",
    "    all_dicts = {}\n",
    "    data_dir = os.path.normpath(str(path_to_data))\n",
    "    for dict_name in os.listdir(data_dir):\n",
    "        singel_dict = {}\n",
    "        dict_path = os.path.join(data_dir, dict_name)\n",
    "        singel_dict[\"RDMolFile\"] = Chem.SDMolSupplier(dict_path)\n",
    "        all_dicts[dict_name] = singel_dict\n",
    "    return all_dicts\n",
    "\n",
    "testdict = import_as_data_dict('data')\n",
    "testdict.keys()\n",
    "testdict['set_chlorbenzene.sdf'].keys()"
   ]
  },
  {
   "cell_type": "markdown",
   "id": "bc216a8f",
   "metadata": {},
   "source": [
    "## Overview of Data Size"
   ]
  },
  {
   "cell_type": "code",
   "execution_count": 5,
   "id": "3fe7e04e",
   "metadata": {},
   "outputs": [
    {
     "data": {
      "text/plain": [
       "dict_keys(['RDMolFile', 'number_of_molecules'])"
      ]
     },
     "execution_count": 5,
     "metadata": {},
     "output_type": "execute_result"
    }
   ],
   "source": [
    "def get_number_of_molecules(all_dicts: dict) -> dict:\n",
    "    \"\"\"\n",
    "    This function updates the dictionaries in the given dictionary with the number of molecules \n",
    "    in every dataset as new key-value pair.\n",
    "    \n",
    "    Args:\n",
    "        all_dicts (dict): Dictionary of dictionaries with SDMolSupplier Objects (Value to 'RDMolFile' as Key).\n",
    "        \n",
    "    Returns:\n",
    "        all_dicts (dict): Given dictionary of dictionaries updated with the Key 'number_of_molecules'.\n",
    "    \"\"\"\n",
    "    for single_dict in all_dicts:\n",
    "        number_of_molecules = len(all_dicts[single_dict]['RDMolFile'])\n",
    "        all_dicts[single_dict]['number_of_molecules'] = number_of_molecules\n",
    "    return all_dicts\n",
    "    \n",
    "len(testdict['set_chlorbenzene.sdf']['RDMolFile'])\n",
    "\n",
    "get_number_of_molecules(testdict)\n",
    "testdict['set_chlorbenzene.sdf'].keys()"
   ]
  },
  {
   "cell_type": "markdown",
   "id": "6c573f94",
   "metadata": {},
   "source": [
    "## Get Identifier"
   ]
  },
  {
   "cell_type": "code",
   "execution_count": 6,
   "id": "4d85671f",
   "metadata": {},
   "outputs": [],
   "source": [
    "'''Identifier-List for ONE Dataset'''\n",
    "\n",
    "def get_identifier_list(\n",
    "    moleculeset: Chem.SDMolSupplier, \n",
    "    id_type : str = \"InChI\"\n",
    "    ):\n",
    "    \"\"\"\n",
    "    This function returns a list of Chemical InChi or Smiles str for all molecules\n",
    "    in a given SDMolSupplier object.\n",
    "\n",
    "    Args:\n",
    "        moleculeset (rdkit.Chem.SDMolSupplier):\n",
    "        id_type (str, optional): \"InChI\", \"InChIKey\" or \" \"Smiles\". Defaults to \"InChI\".\n",
    "\n",
    "    Raises:\n",
    "        ValueError: if ID_type is not \"InChI,\" \"InChIKey\" or \"Smiles\".\n",
    "\n",
    "    Returns:\n",
    "        List[str]: List of identifiers based on given molecules.\n",
    "    \"\"\"\n",
    "    identifier_list = []\n",
    "    for mol in moleculeset:\n",
    "        if id_type == \"Smiles\":\n",
    "            identifier = Chem.MolToSmiles(mol)\n",
    "        elif id_type == \"InChIKey\":\n",
    "            identifier = Chem.MolToInchiKey(mol)\n",
    "        elif id_type == \"InChI\":\n",
    "            identifier = Chem.MolToInchi(mol)\n",
    "        else:\n",
    "            raise ValueError('id_type argument needs to be \"Smiles\", \"InChIKey\" or \"InChI\"!')\n",
    "        identifier_list.append(identifier)\n",
    "    return identifier_list\n",
    "\n",
    "# get_identifier_list(testdict['set_chlorbenzene.sdf']['RDMolFile'])"
   ]
  },
  {
   "cell_type": "code",
   "execution_count": 7,
   "id": "051486bc",
   "metadata": {},
   "outputs": [
    {
     "data": {
      "text/plain": [
       "dict_keys(['RDMolFile', 'number_of_molecules', 'identifier_list'])"
      ]
     },
     "execution_count": 7,
     "metadata": {},
     "output_type": "execute_result"
    }
   ],
   "source": [
    "def get_identifier_list_key(all_dicts: dict, id_type: str) -> dict:\n",
    "    \"\"\"\n",
    "    This function returns the updated dictionaries in the given dictionary with a list of identifiers (InChI, InChIKey, \n",
    "    Smiles) as a new key-value pair using the get_identifier_list function on the RDMolFile Key-Value Pair.\n",
    "    \n",
    "    Args:\n",
    "        all_dicts (dict): Dictionary of dictionaries with 'RDMolFile' as Key (Value is a SDMolSupplier Object).\n",
    "        id_type (str): Type of Identifier (\"InChI\", \"InChIKey\" or \"Smiles\")\n",
    "        \n",
    "    Returns:\n",
    "        all_dicts (dict): Given dictionary of dictionaries updated with the Key 'identifier_list'.\n",
    "    \"\"\"\n",
    "    for single_dict in all_dicts:\n",
    "        identifier_list = get_identifier_list(all_dicts[single_dict]['RDMolFile'], id_type)\n",
    "        all_dicts[single_dict]['identifier_list'] = identifier_list\n",
    "    return all_dicts\n",
    "        \n",
    "get_identifier_list_key(testdict, \"InChI\")\n",
    "testdict['set_phenole.sdf'].keys()"
   ]
  },
  {
   "cell_type": "markdown",
   "id": "43d89648",
   "metadata": {},
   "source": [
    "##  Test for Duplicates"
   ]
  },
  {
   "cell_type": "code",
   "execution_count": 8,
   "id": "cf115209",
   "metadata": {},
   "outputs": [
    {
     "data": {
      "text/plain": [
       "dict_keys(['RDMolFile', 'number_of_molecules', 'identifier_list', 'number_of_duplicates'])"
      ]
     },
     "execution_count": 8,
     "metadata": {},
     "output_type": "execute_result"
    }
   ],
   "source": [
    "def get_duplicate_key(all_dicts: dict):\n",
    "    \"\"\"\n",
    "    This function returns the updated dictionaries in the given dictionary with the number of duplicates in the \n",
    "    identifier list as new Key-Value-Pair.\n",
    "    \n",
    "    Args:\n",
    "        all_dicts (dict): Dictionary of dictionaries with 'identifier_list' as Key.\n",
    "        \n",
    "    Returns:\n",
    "        all_dicts (dict): Given dictionary of dictionaries updated with the Key 'number_of_duplicates'.\n",
    " \n",
    "    \"\"\"\n",
    "    for single_dict in all_dicts:\n",
    "        duplicates = len(all_dicts[single_dict]['identifier_list']) - len(set(all_dicts[single_dict]['identifier_list']))\n",
    "        all_dicts[single_dict]['number_of_duplicates'] = duplicates\n",
    "    return all_dicts\n",
    "\n",
    "get_duplicate_key(testdict)\n",
    "testdict['set_phenole.sdf'].keys()"
   ]
  },
  {
   "cell_type": "markdown",
   "id": "3a8daecc",
   "metadata": {},
   "source": [
    "## Identifier Comparison and Visualisation"
   ]
  },
  {
   "cell_type": "code",
   "execution_count": 9,
   "id": "b8454832",
   "metadata": {},
   "outputs": [
    {
     "data": {
      "text/plain": [
       "dict_keys(['RDMolFile', 'number_of_molecules', 'identifier_list', 'number_of_duplicates', 'number_of_shared_molecules', 'shared_molecules'])"
      ]
     },
     "execution_count": 9,
     "metadata": {},
     "output_type": "execute_result"
    }
   ],
   "source": [
    "def get_shared_molecules_key(all_dicts: dict) -> dict:\n",
    "    \"\"\"\n",
    "    This function returns the updated dictionaries in the given dictionary with the number of shared molecules\n",
    "    and a identifier list of these molecules as two new Key-Value Pairs (number of dictionaries in the dictionary\n",
    "    can be any number).\n",
    "    \n",
    "    Args:\n",
    "        all_dicts (dict): Dictionary of dictionaries with 'identifier_list' as Key.\n",
    "        \n",
    "    Returns:\n",
    "        all_dicts (dict): Given dictionary of dictionaries updated with the Keys \n",
    "        'number_of_'shared_molecules' and 'shared_molecules'.\n",
    "    \"\"\"\n",
    "    sets = []\n",
    "    for single_dict in all_dicts:\n",
    "        single_set = set(all_dicts[single_dict]['identifier_list'])\n",
    "        sets.append(single_set)  \n",
    "        shared_molecules = set.intersection(*sets)\n",
    "    for single_dict in all_dicts:\n",
    "        all_dicts[single_dict]['number_of_shared_molecules'] = len(shared_molecules)\n",
    "        all_dicts[single_dict]['shared_molecules'] = shared_molecules\n",
    "    return all_dicts\n",
    "\n",
    "get_shared_molecules_key(testdict)\n",
    "testdict['set_phenole.sdf'].keys()"
   ]
  },
  {
   "cell_type": "code",
   "execution_count": 10,
   "id": "bfa6171c",
   "metadata": {},
   "outputs": [
    {
     "data": {
      "image/png": "[encoded data removed]",
      "text/plain": [
       "<Figure size 432x288 with 1 Axes>"
      ]
     },
     "metadata": {},
     "output_type": "display_data"
    }
   ],
   "source": [
    "def visualize_intersection(all_dicts: dict):\n",
    "    \"\"\"\n",
    "    This function returns a Venn Diagram of the identifier lists in the dicitionaries in the \n",
    "    given dictionary (as long as there are not more than three dictionaries).\n",
    "    \n",
    "    Args:\n",
    "        all_dicts (dict): Dictionary of dictionaries with 'identifier_list' as Key.\n",
    "        \n",
    "    Returns:\n",
    "        Venn Diagram\n",
    "        \n",
    "    Raises:\n",
    "        WrongInputError: If there are one or more then three sets are to be compared a Error is raised.\n",
    "    \"\"\"\n",
    "    sets = []\n",
    "    for single_dict in all_dicts:\n",
    "        single_set = set(all_dicts[single_dict]['identifier_list'])\n",
    "        sets.append(single_set)\n",
    "    if len(sets) == 3:\n",
    "        v = venn3(sets, set_labels = (all_dicts.keys()))\n",
    "    elif len(sets) == 2:\n",
    "        v = venn2(sets, set_labels = (all_dicts.keys()))\n",
    "    else:\n",
    "        raise WrongInputError('Visualization only possible for two or three data sets!')\n",
    "    plt.title(\"Intersection as Venn diagram\")\n",
    "    return plt.show(v)\n",
    "\n",
    "\n",
    "visualize_intersection(testdict)"
   ]
  },
  {
   "cell_type": "markdown",
   "id": "54b93bf2",
   "metadata": {},
   "source": [
    "## Get Descriptors"
   ]
  },
  {
   "cell_type": "code",
   "execution_count": 12,
   "id": "2a286ba0",
   "metadata": {},
   "outputs": [
    {
     "name": "stdout",
     "output_type": "stream",
     "text": [
      "[112.55899999999997, 147.00400000000002, 181.449, 147.00399999999996, 147.004, 163.003, 163.003, 128.55799999999996, 128.55799999999996, 163.00300000000001, 163.003, 163.003, 128.55799999999996, 172.01399999999998, 145.564, 144.557, 162.019, 162.019, 145.564, 140.56899999999996, 145.564, 162.01899999999998, 162.019, 155.55999999999997, 158.633, 127.57399999999998, 140.569, 145.564, 145.56400000000002, 145.56399999999996, 145.56400000000002, 145.564, 175.014, 191.01299999999998, 173.55499999999998, 141.577, 205.482, 180.55599999999998, 152.584, 126.58599999999997, 156.56799999999998, 156.56799999999998, 152.57999999999996, 126.58599999999997, 173.555, 205.48199999999997, 180.55599999999998, 205.48199999999997, 169.57100000000003, 169.567, 161.03099999999998, 156.56799999999998, 180.55599999999998, 142.58499999999998, 142.58499999999998, 160.57499999999996, 142.58899999999997, 190.029, 190.029, 206.097, 172.57099999999997, 177.02999999999997, 151.59599999999998, 155.58399999999997, 173.574, 172.571, 160.575, 220.48599999999996, 172.56699999999998, 155.584, 160.575, 190.029, 160.575, 177.03, 202.55299999999997, 168.583, 142.58499999999998, 220.486, 172.57099999999997, 151.59599999999998, 171.58299999999997, 172.58599999999998, 141.601, 172.58599999999998, 171.583, 141.601, 195.581, 198.052, 171.58299999999997, 259.48600000000005, 172.58599999999998, 141.601, 171.583, 180.59, 215.035, 141.601, 259.48600000000005, 158.58399999999997, 141.601, 170.595]\n",
      "[2.34, 2.993400000000001, 3.6468000000000007, 2.9934000000000003, 2.993400000000001, 2.6990000000000007, 2.6990000000000003, 2.0455999999999994, 2.0456, 2.699, 2.6990000000000003, 2.699, 2.0456, 2.8650800000000007, 2.0613, 1.7511999999999994, 2.5755999999999997, 2.5755999999999997, 2.0612999999999997, 2.1525, 2.0612999999999997, 2.5756000000000006, 2.5755999999999997, 0.7034999999999999, 1.8279999999999998, 1.9221999999999997, 2.1525, 2.0613, 2.0613, 2.0612999999999997, 2.0613, 2.0612999999999997, 2.805900000000001, 2.6916, 1.9537999999999995, 1.7220199999999999, 3.410920000000001, 3.3588000000000005, 2.2329799999999995, 2.6484200000000007, 2.0382, 2.0382, 2.0787999999999993, 2.6484200000000007, 1.9537999999999998, 3.410920000000001, 3.3588000000000013, 3.410920000000001, 1.3219999999999996, 2.1868, 3.30182, 2.0382, 3.3588000000000005, 2.3540200000000002, 2.3540200000000002, 2.4877000000000002, 1.6255999999999993, 2.0923, 2.714600000000001, 2.627600000000001, 1.8303999999999998, 3.0020000000000016, 2.520100000000001, 1.4389, 2.2872, 1.8303999999999996, 2.4877000000000002, 4.1281, 1.7437999999999998, 2.1480999999999995, 2.4877000000000002, 2.8015000000000008, 2.4877000000000002, 3.0020000000000016, 2.1564000000000005, 1.8937699999999997, 2.3486000000000002, 4.1281, 1.8303999999999996, 2.520100000000001, 2.5566200000000006, 2.681700000000001, 2.23062, 2.681700000000001, 2.4299, 2.23062, 1.5199999999999994, 3.5416000000000007, 1.6204, 3.2089000000000008, 2.681700000000001, 2.23062, 2.5566200000000006, 2.4464000000000006, 3.0998, 2.23062, 3.2089000000000008, 1.5378999999999998, 2.23062, 2.1611000000000002]\n",
      "[0, 0, 0, 0, 0, 1, 1, 1, 1, 1, 1, 1, 1, 1, 1, 2, 1, 1, 1, 1, 1, 1, 1, 2, 2, 1, 1, 1, 1, 1, 1, 1, 1, 1, 3, 1, 0, 0, 2, 0, 1, 1, 1, 0, 3, 0, 0, 0, 4, 3, 0, 1, 0, 1, 1, 1, 2, 1, 2, 1, 3, 1, 1, 1, 2, 3, 1, 0, 2, 2, 1, 2, 1, 1, 4, 2, 1, 0, 3, 1, 2, 1, 1, 1, 1, 1, 3, 1, 2, 2, 1, 1, 2, 2, 2, 1, 2, 2, 1, 2]\n",
      "[0, 0, 0, 0, 0, 1, 1, 1, 1, 1, 1, 1, 1, 0, 1, 2, 1, 1, 1, 0, 1, 1, 1, 0, 1, 1, 0, 1, 1, 1, 1, 1, 0, 1, 1, 0, 0, 0, 1, 0, 1, 1, 0, 0, 1, 0, 0, 0, 1, 1, 0, 1, 0, 1, 1, 0, 2, 1, 1, 1, 1, 0, 0, 1, 1, 1, 0, 1, 2, 1, 0, 1, 0, 0, 0, 2, 0, 1, 1, 0, 0, 0, 1, 0, 2, 1, 0, 0, 2, 0, 0, 1, 0, 0, 0, 1, 0, 2, 1, 0]\n",
      "[1, 2, 3, 2, 2, 3, 3, 2, 2, 3, 3, 3, 2, 3, 3, 3, 3, 3, 3, 2, 3, 3, 3, 3, 3, 2, 2, 3, 3, 3, 3, 3, 3, 4, 5, 2, 2, 4, 3, 1, 3, 3, 2, 1, 5, 2, 4, 2, 5, 4, 2, 3, 4, 2, 2, 3, 3, 4, 4, 4, 5, 3, 2, 3, 4, 5, 3, 4, 4, 3, 3, 4, 3, 3, 7, 4, 2, 4, 5, 2, 4, 3, 2, 3, 4, 2, 4, 3, 4, 4, 3, 2, 4, 3, 4, 2, 4, 3, 2, 3]\n",
      "[7, 8, 9, 8, 8, 9, 9, 8, 8, 9, 9, 9, 8, 10, 9, 9, 9, 9, 9, 9, 9, 9, 9, 10, 9, 8, 9, 9, 9, 9, 9, 9, 10, 11, 11, 9, 9, 11, 10, 8, 10, 10, 10, 8, 11, 9, 11, 9, 11, 11, 9, 10, 11, 9, 9, 10, 9, 11, 11, 11, 11, 10, 10, 10, 11, 11, 10, 12, 11, 10, 10, 11, 10, 10, 13, 11, 9, 12, 11, 10, 11, 11, 9, 11, 11, 9, 13, 12, 11, 13, 11, 9, 11, 12, 13, 9, 13, 10, 9, 11]\n",
      "[1, 1, 1, 1, 1, 1, 1, 1, 1, 1, 1, 1, 1, 1, 1, 1, 1, 1, 1, 1, 1, 1, 1, 1, 1, 1, 1, 1, 1, 1, 1, 1, 1, 1, 1, 1, 1, 1, 1, 1, 1, 1, 2, 1, 1, 1, 1, 1, 2, 2, 1, 1, 1, 1, 1, 1, 1, 1, 1, 1, 1, 1, 1, 1, 1, 1, 1, 2, 1, 1, 1, 1, 1, 1, 1, 2, 1, 2, 1, 1, 1, 1, 1, 1, 1, 1, 2, 2, 1, 2, 1, 1, 1, 2, 2, 1, 2, 1, 1, 1]\n"
     ]
    }
   ],
   "source": [
    "from typing import Callable\n",
    "\n",
    "\"\"\"Descriptor for ONE Input-List\n",
    "more possible descriptors: https://www.rdkit.org/docs/GettingStartedInPython.html#list-of-available-descriptors\n",
    "maybe use different Descriptor Module -> rdkit.Chem.rdMolDescriptors module (has some more/different descriptors)\n",
    "see: https://www.rdkit.org/docs/source/rdkit.Chem.rdMolDescriptors.html\n",
    "\"\"\"\n",
    "\n",
    "def get_descriptor_list(\n",
    "    moleculeset : Chem.SDMolSupplier,\n",
    "    descriptor: Callable\n",
    "    ) -> list:\n",
    "    \"\"\"\n",
    "    This function returns a List of Descriptor Values for all Molecules\n",
    "    in a given SDMolSupplier object.\n",
    "    \n",
    "    Args:\n",
    "        moleculeset (rdkit.Chem.SDMolSupplier)\n",
    "        descriptor (callable) - RDKit method that returns a molecular descriptor \n",
    "                                based on a given molecule\n",
    "    \n",
    "    Returns:\n",
    "        List[]: List of Descriptor Values \n",
    "    \"\"\"\n",
    "    descriptor_list = []\n",
    "    for mol in moleculeset:\n",
    "        value = descriptor(mol)    \n",
    "        descriptor_list.append(value)\n",
    "    return descriptor_list\n",
    "\n",
    "descriptors = [Descriptors.MolWt,\n",
    "               Descriptors.MolLogP,\n",
    "               Descriptors.NumHAcceptors,\n",
    "               Descriptors.NumHDonors,\n",
    "               Descriptors.NumHeteroatoms,\n",
    "               Descriptors.HeavyAtomCount,\n",
    "               Descriptors.RingCount]\n",
    "\n",
    "for descriptor in descriptors:\n",
    "    print(get_descriptor_list(testdict['set_chlorbenzene.sdf']['RDMolFile'],\n",
    "                              descriptor))\n"
   ]
  },
  {
   "cell_type": "code",
   "execution_count": 24,
   "id": "b04a9d8f",
   "metadata": {},
   "outputs": [
    {
     "data": {
      "text/plain": [
       "dict_keys(['RDMolFile', 'number_of_molecules', 'identifier_list', 'number_of_duplicates', 'number_of_shared_molecules', 'shared_molecules', 'RingCount', 'MolWt'])"
      ]
     },
     "execution_count": 24,
     "metadata": {},
     "output_type": "execute_result"
    }
   ],
   "source": [
    "def get_descriptor_list_key(all_dicts: dict, descriptor: str) -> dict:\n",
    "    \"\"\"\n",
    "    This function returns the updated dictionaries in the given dictionary with a list of descriptors (MolWt,\n",
    "    MolLogP, NumHDonors, NumHAcceptors, NumHeteroatoms, HeavyAtomCount, RingCount) as a new key-value pair\n",
    "    using the get_descriptor_list function on the RDMolFile Key-Value Pair.\n",
    "    \n",
    "    Args:\n",
    "        all_dicts (dict): Dictionary of dictionaries with 'RDMolFile' as Key (Value is a SDMolSupplier Object).\n",
    "        id_type (str): Type of Descriptor (see above)\n",
    "        \n",
    "    Returns:\n",
    "        all_dicts (dict): Given dictionary of dictionaries updated with the descriptor Key.\n",
    "        (if function is called repeatedly with different descriptors several new Key-Value-Pairs a generated)\n",
    "    \"\"\"\n",
    "    for single_dict in all_dicts:\n",
    "        descriptor_list = get_descriptor_list(all_dicts[single_dict]['RDMolFile'], descriptor)\n",
    "        all_dicts[single_dict][descriptor] = descriptor_list\n",
    "    return all_dicts\n",
    "        \n",
    "get_descriptor_list_key(testdict, \"RingCount\")\n",
    "testdict['set_phenole.sdf'].keys()\n",
    "# get_descriptor_list_key(testdict, \"MolWt\")\n",
    "# testdict['set_phenole.sdf']['MolWt']"
   ]
  },
  {
   "cell_type": "markdown",
   "id": "d31849df",
   "metadata": {},
   "source": [
    "## Lipinski Rule of 5 and visualisation\n",
    "- MolWt <= 500\n",
    "- MolLogP <= 5\n",
    "- NumHAcceptor <= 10\n",
    "- NumHDonor <= 5"
   ]
  },
  {
   "cell_type": "code",
   "execution_count": 27,
   "id": "9b8a9a9c",
   "metadata": {},
   "outputs": [],
   "source": [
    "def test_for_lipinski(moleculeset: Chem.SDMolSupplier) -> list:\n",
    "    \"\"\"\n",
    "    This function returns a list with the number of Lipinski Rules broken for every molecule in the given\n",
    "    moleculeset.\n",
    "    \n",
    "    Args:\n",
    "        moleculeset (Chem.SDMolSupplier): SDMolSupplier Objects \n",
    "        \n",
    "    Returns:\n",
    "        list[int]: List of number of broken Rules.\n",
    "    \"\"\"\n",
    "    num_of_break = []\n",
    "    for mol in moleculeset:\n",
    "        rule_break = 0\n",
    "        if Descriptors.MolLogP(mol) > 5:\n",
    "            rule_break +=1\n",
    "        if Descriptors.MolWt(mol) > 500:\n",
    "            rule_break +=1\n",
    "        if Descriptors.NumHAcceptors(mol) > 10:\n",
    "            rule_break +=1\n",
    "        if Descriptors.NumHDonors(mol) > 5:\n",
    "            rule_break +=1\n",
    "        else:\n",
    "            rule_break += 0\n",
    "        num_of_break.append(rule_break)\n",
    "    return num_of_break"
   ]
  },
  {
   "cell_type": "code",
   "execution_count": 34,
   "id": "6089263d",
   "metadata": {},
   "outputs": [
    {
     "data": {
      "text/plain": [
       "dict_keys(['RDMolFile', 'number_of_molecules', 'identifier_list', 'number_of_duplicates', 'number_of_shared_molecules', 'shared_molecules', 'RingCount', 'MolWt', 'lipinski_break_list', 'lipinski_summary', 'binned_MolWt'])"
      ]
     },
     "execution_count": 34,
     "metadata": {},
     "output_type": "execute_result"
    }
   ],
   "source": [
    "def get_lipinski_key (all_dicts : dict) -> dict : #Dictionary\n",
    "    \"\"\"\n",
    "    This function returns the updated dictionaries in the given dictionary with the list of the number of broken\n",
    "    Lipinski Rules (Key 'lipinski_break_list') using the test_for_lipinski function and a summary for the broken \n",
    "    rules (Key 'lipinski_summary').\n",
    "    \n",
    "    Args:\n",
    "        all_dicts (dict): Dictionary of dictionaries with 'RDMolFile' as Key (Value is a SDMolSupplier Object).\n",
    "        \n",
    "    Returns:\n",
    "        all_dicts (dict): Given dictionary of dictionaries updated with the Lipinski Keys.\n",
    "    \"\"\"\n",
    "    for single_dict in all_dicts:\n",
    "        lipinski_break_list = test_for_lipinski(all_dicts[single_dict]['RDMolFile'])\n",
    "        all_dicts[single_dict]['lipinski_break_list'] = lipinski_break_list\n",
    "        lipinski_summary = {\"lipinski_molecules\" : lipinski_break_list.count(0),\n",
    "                            \"1_rule_broken\" : lipinski_break_list.count(1),\n",
    "                            \"2_rules_broken\" : lipinski_break_list.count(2),\n",
    "                            \"3_rules_broken\" : lipinski_break_list.count(3), \n",
    "                            \"4_rules_broken\" : lipinski_break_list.count(4)}\n",
    "        all_dicts[single_dict]['lipinski_summary'] = lipinski_summary\n",
    "    return all_dicts\n",
    "\n",
    "get_lipinski_key(testdict)\n",
    "testdict['set_phenole.sdf']['lipinski_summary']\n",
    "testdict['set_chlorbenzene.sdf']['lipinski_summary']\n",
    "testdict['set_chlorbenzene.sdf']['lipinski_summary'].values()\n",
    "testdict['set_phenole.sdf'].keys()"
   ]
  },
  {
   "cell_type": "code",
   "execution_count": 32,
   "id": "8a1fcdf2",
   "metadata": {},
   "outputs": [
    {
     "data": {
      "text/html": [
       "<div>\n",
       "<style scoped>\n",
       "    .dataframe tbody tr th:only-of-type {\n",
       "        vertical-align: middle;\n",
       "    }\n",
       "\n",
       "    .dataframe tbody tr th {\n",
       "        vertical-align: top;\n",
       "    }\n",
       "\n",
       "    .dataframe thead th {\n",
       "        text-align: right;\n",
       "    }\n",
       "</style>\n",
       "<table border=\"1\" class=\"dataframe\">\n",
       "  <thead>\n",
       "    <tr style=\"text-align: right;\">\n",
       "      <th></th>\n",
       "      <th>Number of broken rules</th>\n",
       "      <th>set_chlorbenzene-5.sdf</th>\n",
       "      <th>set_chlorbenzene.sdf</th>\n",
       "      <th>set_phenole.sdf</th>\n",
       "    </tr>\n",
       "  </thead>\n",
       "  <tbody>\n",
       "    <tr>\n",
       "      <th>0</th>\n",
       "      <td>0</td>\n",
       "      <td>50</td>\n",
       "      <td>100</td>\n",
       "      <td>100</td>\n",
       "    </tr>\n",
       "    <tr>\n",
       "      <th>1</th>\n",
       "      <td>1</td>\n",
       "      <td>0</td>\n",
       "      <td>0</td>\n",
       "      <td>0</td>\n",
       "    </tr>\n",
       "    <tr>\n",
       "      <th>2</th>\n",
       "      <td>2</td>\n",
       "      <td>0</td>\n",
       "      <td>0</td>\n",
       "      <td>0</td>\n",
       "    </tr>\n",
       "    <tr>\n",
       "      <th>3</th>\n",
       "      <td>3</td>\n",
       "      <td>0</td>\n",
       "      <td>0</td>\n",
       "      <td>0</td>\n",
       "    </tr>\n",
       "    <tr>\n",
       "      <th>4</th>\n",
       "      <td>4</td>\n",
       "      <td>0</td>\n",
       "      <td>0</td>\n",
       "      <td>0</td>\n",
       "    </tr>\n",
       "  </tbody>\n",
       "</table>\n",
       "</div>"
      ],
      "text/plain": [
       "   Number of broken rules  set_chlorbenzene-5.sdf  set_chlorbenzene.sdf  \\\n",
       "0                       0                      50                   100   \n",
       "1                       1                       0                     0   \n",
       "2                       2                       0                     0   \n",
       "3                       3                       0                     0   \n",
       "4                       4                       0                     0   \n",
       "\n",
       "   set_phenole.sdf  \n",
       "0              100  \n",
       "1                0  \n",
       "2                0  \n",
       "3                0  \n",
       "4                0  "
      ]
     },
     "execution_count": 32,
     "metadata": {},
     "output_type": "execute_result"
    },
    {
     "data": {
      "image/png": "[encoded data removed]",
      "text/plain": [
       "<Figure size 432x288 with 1 Axes>"
      ]
     },
     "metadata": {
      "needs_background": "light"
     },
     "output_type": "display_data"
    }
   ],
   "source": [
    "def lipinski_plot(all_dicts : dict):\n",
    "    \"\"\"\n",
    "    This function returns a Pandas DataFrame Object and the corresponding Bar-Plot for the number of\n",
    "    molecules in every Dataset breaking 0 to 4 Lipinski Rules using the 'lipinski_summary' key in the\n",
    "    given dictionaries.\n",
    "    \n",
    "    args:\n",
    "        all_dicts (dict): Dictionary of dictionaries with 'lipinski_summary' as Key (value is a dictionary).\n",
    "        \n",
    "    returns:\n",
    "        pd.DataFrame: 'lipinski_summary' as a Pandas Dataframe Object\n",
    "        Bar-Plot\n",
    "    \"\"\"\n",
    "    lipinski_df_dict = {\"Number of broken rules\": [0,1,2,3,4]}\n",
    "    for single_dict in all_dicts:\n",
    "        header = single_dict\n",
    "        lipinski_df_dict.update({header : list(all_dicts[single_dict]['lipinski_summary'].values())})\n",
    "    lipinski_df = pd.DataFrame(lipinski_df_dict)\n",
    "    lipinski_df.plot(x = \"Number of broken rules\",\n",
    "                     kind='bar',\n",
    "                     stacked=False,\n",
    "                     title='Number of broken Lipinski Rules',\n",
    "                     ylabel ='Number of molecules',)\n",
    "    plt.legend(bbox_to_anchor=(1,1), loc=\"upper left\")\n",
    "    return lipinski_df\n",
    "\n",
    "lipinski_plot(testdict)"
   ]
  },
  {
   "cell_type": "markdown",
   "id": "06af67b7",
   "metadata": {},
   "source": [
    "## Binning and Visualisation for Moleculare Weight"
   ]
  },
  {
   "cell_type": "code",
   "execution_count": 35,
   "id": "46f3baeb",
   "metadata": {},
   "outputs": [
    {
     "data": {
      "text/plain": [
       "dict_keys(['RDMolFile', 'number_of_molecules', 'identifier_list', 'number_of_duplicates', 'number_of_shared_molecules', 'shared_molecules', 'RingCount', 'MolWt', 'lipinski_break_list', 'lipinski_summary', 'binned_MolWt'])"
      ]
     },
     "execution_count": 35,
     "metadata": {},
     "output_type": "execute_result"
    }
   ],
   "source": [
    "def get_bins_with_counts_4(all_dicts: dict, width_of_bins: int) -> dict:\n",
    "    \"\"\"\n",
    "    This function returns the updated dictionaries in the given dictionary with the Key 'binned_MolWt', using\n",
    "    the same bins for every dataset spanning form lowest to the highest Molecular Weight and a chosen width \n",
    "    for the bins.\n",
    "    \n",
    "    Args:\n",
    "        all_dicts (dict): Dictionary of dictionaries including the Key 'MolWt'.\n",
    "        widht_of_bins (int): Interval size for the bins\n",
    "        \n",
    "    Returns:\n",
    "        all_dicts (dict): Given dictionary of dictionaries updated with the 'binned_MolWt' Key.\n",
    "    \"\"\"\n",
    "    find_min = []\n",
    "    find_max = []\n",
    "    for single_dict in all_dicts:\n",
    "        find_min.append(min(all_dicts[single_dict]['MolWt']))\n",
    "        find_max.append(max(all_dicts[single_dict]['MolWt']))\n",
    "    if min(find_min) < round(min(find_min), ndigits=-1):\n",
    "        lower = round(min(find_min), ndigits=-1) - 10\n",
    "    else:\n",
    "        lower = round(min(find_min), ndigits=-1)\n",
    "    if max(find_max) > round(max(find_max), ndigits=-1):\n",
    "        upper = round(max(find_max), ndigits=-1) +10\n",
    "    else:\n",
    "        upper = round(max(find_max), ndigits=-1)\n",
    "    if (upper-lower)%width_of_bins == 0:\n",
    "        bins = pd.interval_range(start=lower, end=upper, freq = width_of_bins)\n",
    "    else:\n",
    "        to_add = width_of_bins - (upper-lower)%width_of_bins\n",
    "        bins = pd.interval_range(start=lower, end=(upper + to_add), freq = width_of_bins)    \n",
    "    for single_dict in all_dicts:\n",
    "        counts = pd.value_counts(pd.cut(all_dicts[single_dict]['MolWt'], bins), sort=False)\n",
    "        all_dicts[single_dict]['binned_MolWt'] = counts     \n",
    "    return all_dicts\n",
    "\n",
    "    \n",
    "get_bins_with_counts_4(testdict, 15)\n",
    "\n",
    "list((testdict['set_phenole.sdf']['binned_MolWt']))\n",
    "testdict['set_phenole.sdf'].keys()\n"
   ]
  },
  {
   "cell_type": "code",
   "execution_count": 37,
   "id": "c7320d74",
   "metadata": {},
   "outputs": [
    {
     "data": {
      "text/html": [
       "<div>\n",
       "<style scoped>\n",
       "    .dataframe tbody tr th:only-of-type {\n",
       "        vertical-align: middle;\n",
       "    }\n",
       "\n",
       "    .dataframe tbody tr th {\n",
       "        vertical-align: top;\n",
       "    }\n",
       "\n",
       "    .dataframe thead th {\n",
       "        text-align: right;\n",
       "    }\n",
       "</style>\n",
       "<table border=\"1\" class=\"dataframe\">\n",
       "  <thead>\n",
       "    <tr style=\"text-align: right;\">\n",
       "      <th></th>\n",
       "      <th>Molecular Weight Intervalls</th>\n",
       "      <th>set_chlorbenzene-5.sdf</th>\n",
       "      <th>set_chlorbenzene.sdf</th>\n",
       "      <th>set_phenole.sdf</th>\n",
       "    </tr>\n",
       "  </thead>\n",
       "  <tbody>\n",
       "    <tr>\n",
       "      <th>0</th>\n",
       "      <td>(90.0, 105.0]</td>\n",
       "      <td>0</td>\n",
       "      <td>0</td>\n",
       "      <td>1</td>\n",
       "    </tr>\n",
       "    <tr>\n",
       "      <th>1</th>\n",
       "      <td>(105.0, 120.0]</td>\n",
       "      <td>1</td>\n",
       "      <td>1</td>\n",
       "      <td>12</td>\n",
       "    </tr>\n",
       "    <tr>\n",
       "      <th>2</th>\n",
       "      <td>(120.0, 135.0]</td>\n",
       "      <td>6</td>\n",
       "      <td>6</td>\n",
       "      <td>26</td>\n",
       "    </tr>\n",
       "    <tr>\n",
       "      <th>3</th>\n",
       "      <td>(135.0, 150.0]</td>\n",
       "      <td>15</td>\n",
       "      <td>24</td>\n",
       "      <td>21</td>\n",
       "    </tr>\n",
       "    <tr>\n",
       "      <th>4</th>\n",
       "      <td>(150.0, 165.0]</td>\n",
       "      <td>15</td>\n",
       "      <td>26</td>\n",
       "      <td>21</td>\n",
       "    </tr>\n",
       "    <tr>\n",
       "      <th>5</th>\n",
       "      <td>(165.0, 180.0]</td>\n",
       "      <td>6</td>\n",
       "      <td>22</td>\n",
       "      <td>10</td>\n",
       "    </tr>\n",
       "    <tr>\n",
       "      <th>6</th>\n",
       "      <td>(180.0, 195.0]</td>\n",
       "      <td>4</td>\n",
       "      <td>9</td>\n",
       "      <td>6</td>\n",
       "    </tr>\n",
       "    <tr>\n",
       "      <th>7</th>\n",
       "      <td>(195.0, 210.0]</td>\n",
       "      <td>3</td>\n",
       "      <td>7</td>\n",
       "      <td>1</td>\n",
       "    </tr>\n",
       "    <tr>\n",
       "      <th>8</th>\n",
       "      <td>(210.0, 225.0]</td>\n",
       "      <td>0</td>\n",
       "      <td>3</td>\n",
       "      <td>1</td>\n",
       "    </tr>\n",
       "    <tr>\n",
       "      <th>9</th>\n",
       "      <td>(225.0, 240.0]</td>\n",
       "      <td>0</td>\n",
       "      <td>0</td>\n",
       "      <td>0</td>\n",
       "    </tr>\n",
       "    <tr>\n",
       "      <th>10</th>\n",
       "      <td>(240.0, 255.0]</td>\n",
       "      <td>0</td>\n",
       "      <td>0</td>\n",
       "      <td>1</td>\n",
       "    </tr>\n",
       "    <tr>\n",
       "      <th>11</th>\n",
       "      <td>(255.0, 270.0]</td>\n",
       "      <td>0</td>\n",
       "      <td>2</td>\n",
       "      <td>0</td>\n",
       "    </tr>\n",
       "  </tbody>\n",
       "</table>\n",
       "</div>"
      ],
      "text/plain": [
       "   Molecular Weight Intervalls  set_chlorbenzene-5.sdf  set_chlorbenzene.sdf  \\\n",
       "0                (90.0, 105.0]                       0                     0   \n",
       "1               (105.0, 120.0]                       1                     1   \n",
       "2               (120.0, 135.0]                       6                     6   \n",
       "3               (135.0, 150.0]                      15                    24   \n",
       "4               (150.0, 165.0]                      15                    26   \n",
       "5               (165.0, 180.0]                       6                    22   \n",
       "6               (180.0, 195.0]                       4                     9   \n",
       "7               (195.0, 210.0]                       3                     7   \n",
       "8               (210.0, 225.0]                       0                     3   \n",
       "9               (225.0, 240.0]                       0                     0   \n",
       "10              (240.0, 255.0]                       0                     0   \n",
       "11              (255.0, 270.0]                       0                     2   \n",
       "\n",
       "    set_phenole.sdf  \n",
       "0                 1  \n",
       "1                12  \n",
       "2                26  \n",
       "3                21  \n",
       "4                21  \n",
       "5                10  \n",
       "6                 6  \n",
       "7                 1  \n",
       "8                 1  \n",
       "9                 0  \n",
       "10                1  \n",
       "11                0  "
      ]
     },
     "execution_count": 37,
     "metadata": {},
     "output_type": "execute_result"
    },
    {
     "data": {
      "image/png": "[encoded data removed]",
      "text/plain": [
       "<Figure size 432x288 with 1 Axes>"
      ]
     },
     "metadata": {
      "needs_background": "light"
     },
     "output_type": "display_data"
    }
   ],
   "source": [
    "def MolWt_plot(all_dicts: dict):\n",
    "    first_dict = list(all_dicts.keys())[0]\n",
    "    MolWt_df_dict = {\"Molecular Weight Intervalls\": all_dicts[first_dict]['binned_MolWt'].keys()}\n",
    "    for single_dict in all_dicts:\n",
    "        header = single_dict\n",
    "        MolWt_df_dict.update({header : list(testdict[single_dict]['binned_MolWt'])})\n",
    "    MolWt_df = pd.DataFrame(MolWt_df_dict)\n",
    "    MolWt_df.plot(x = \"Molecular Weight Intervalls\",\n",
    "                 kind = 'bar',\n",
    "                 stacked=False,\n",
    "                 title='Distribution of Molecular Weight',\n",
    "                 ylabel ='Number of molecules')\n",
    "    plt.legend(bbox_to_anchor=(1,1), loc=\"upper left\")\n",
    "    return MolWt_df\n",
    "\n",
    "\n",
    "MolWt_plot(testdict)"
   ]
  },
  {
   "cell_type": "markdown",
   "id": "6784be7f",
   "metadata": {},
   "source": [
    "## Chemical Space Visulisation"
   ]
  },
  {
   "cell_type": "markdown",
   "id": "05320b11",
   "metadata": {},
   "source": [
    "## Visualisation for other Descriptors"
   ]
  }
 ],
 "metadata": {
  "kernelspec": {
   "display_name": "Python 3 (ipykernel)",
   "language": "python",
   "name": "python3"
  },
  "language_info": {
   "codemirror_mode": {
    "name": "ipython",
    "version": 3
   },
   "file_extension": ".py",
   "mimetype": "text/x-python",
   "name": "python",
   "nbconvert_exporter": "python",
   "pygments_lexer": "ipython3",
   "version": "3.7.10"
  }
 },
 "nbformat": 4,
 "nbformat_minor": 5
}
