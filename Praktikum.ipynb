{
 "cells": [
  {
   "cell_type": "markdown",
   "id": "10e14714",
   "metadata": {},
   "source": [
    "# Funktion\n",
    "- Vergleich von Datensätzen\n",
    "- Input: sdf-Dateinen\n",
    "- Output: Anzahl und Liste gleicher Elemente + visuelle Darstellung (Venn-Diagramm)"
   ]
  },
  {
   "cell_type": "code",
   "execution_count": 2,
   "id": "75d46a02",
   "metadata": {},
   "outputs": [],
   "source": [
    "'''Importieren der Libraries '''\n",
    "\n",
    "from rdkit import Chem\n",
    "from rdkit.Chem import AllChem\n",
    "from rdkit.Chem import Descriptors\n",
    "from rdkit.Chem import Draw\n",
    "\n",
    "import seaborn as sns\n",
    "from typing import List, Any\n",
    "\n",
    "import os\n",
    "\n",
    "import matplotlib.pyplot as plt\n",
    "\n",
    "from matplotlib_venn import venn2\n",
    "from matplotlib_venn import venn3"
   ]
  },
  {
   "cell_type": "code",
   "execution_count": 3,
   "id": "0355211c",
   "metadata": {},
   "outputs": [
    {
     "ename": "OSError",
     "evalue": "File error: Bad input file data/set_chlorbenzene.sdf",
     "output_type": "error",
     "traceback": [
      "\u001b[1;31m---------------------------------------------------------------------------\u001b[0m",
      "\u001b[1;31mOSError\u001b[0m                                   Traceback (most recent call last)",
      "\u001b[1;32m<ipython-input-3-478e24091b45>\u001b[0m in \u001b[0;36m<module>\u001b[1;34m\u001b[0m\n\u001b[0;32m      1\u001b[0m \u001b[1;34m'''Datensätze für den Vergleich importieren'''\u001b[0m\u001b[1;33m\u001b[0m\u001b[1;33m\u001b[0m\u001b[0m\n\u001b[0;32m      2\u001b[0m \u001b[1;33m\u001b[0m\u001b[0m\n\u001b[1;32m----> 3\u001b[1;33m \u001b[0mset1\u001b[0m \u001b[1;33m=\u001b[0m \u001b[0mChem\u001b[0m\u001b[1;33m.\u001b[0m\u001b[0mSDMolSupplier\u001b[0m\u001b[1;33m(\u001b[0m\u001b[1;34m'data/set_chlorbenzene.sdf'\u001b[0m\u001b[1;33m)\u001b[0m\u001b[1;33m\u001b[0m\u001b[1;33m\u001b[0m\u001b[0m\n\u001b[0m\u001b[0;32m      4\u001b[0m \u001b[0mset2\u001b[0m \u001b[1;33m=\u001b[0m \u001b[0mChem\u001b[0m\u001b[1;33m.\u001b[0m\u001b[0mSDMolSupplier\u001b[0m\u001b[1;33m(\u001b[0m\u001b[1;34m'data/set_phenole.sdf'\u001b[0m\u001b[1;33m)\u001b[0m\u001b[1;33m\u001b[0m\u001b[1;33m\u001b[0m\u001b[0m\n\u001b[0;32m      5\u001b[0m \u001b[0mset3\u001b[0m \u001b[1;33m=\u001b[0m \u001b[0mChem\u001b[0m\u001b[1;33m.\u001b[0m\u001b[0mSDMolSupplier\u001b[0m\u001b[1;33m(\u001b[0m\u001b[1;34m'data/4xmol.sdf'\u001b[0m\u001b[1;33m)\u001b[0m\u001b[1;33m\u001b[0m\u001b[1;33m\u001b[0m\u001b[0m\n",
      "\u001b[1;31mOSError\u001b[0m: File error: Bad input file data/set_chlorbenzene.sdf"
     ]
    }
   ],
   "source": [
    "'''Datensätze für den Vergleich importieren'''\n",
    "\n",
    "set1 = Chem.SDMolSupplier('data/set_chlorbenzene.sdf')\n",
    "set2 = Chem.SDMolSupplier('data/set_phenole.sdf')\n",
    "set3 = Chem.SDMolSupplier('data/4xmol.sdf')\n",
    "set4 = Chem.SDMolSupplier('data/4xmol.sdf')"
   ]
  },
  {
   "cell_type": "code",
   "execution_count": 4,
   "id": "03102054",
   "metadata": {},
   "outputs": [
    {
     "data": {
      "text/plain": [
       "[<rdkit.Chem.rdmolfiles.SDMolSupplier at 0x12bb0eca730>,\n",
       " <rdkit.Chem.rdmolfiles.SDMolSupplier at 0x12bb0eff070>]"
      ]
     },
     "execution_count": 4,
     "metadata": {},
     "output_type": "execute_result"
    }
   ],
   "source": [
    "data_dir = os.path.normpath('data')\n",
    "\n",
    "# Suggestion 1\n",
    "molecule_sets = []\n",
    "# Loop over names in data directory\n",
    "for molecule_set_name in os.listdir(data_dir):\n",
    "    # Assemble complete path of every file\n",
    "    molecule_set_path = os.path.join(data_dir, molecule_set_name)\n",
    "    # Read every sd file and append SDMolSupplier to list\n",
    "    molecule_sets.append(Chem.SDMolSupplier(molecule_set_path))\n",
    "\n",
    "molecule_sets\n"
   ]
  },
  {
   "cell_type": "code",
   "execution_count": 5,
   "id": "1a61db37",
   "metadata": {},
   "outputs": [
    {
     "data": {
      "text/plain": [
       "{'coconut_structure_search_chlorobenzene_result.sdf': <rdkit.Chem.rdmolfiles.SDMolSupplier at 0x12bb1074570>,\n",
       " 'coconut_structure_search_phenole_result.sdf': <rdkit.Chem.rdmolfiles.SDMolSupplier at 0x12bb0eda270>}"
      ]
     },
     "execution_count": 5,
     "metadata": {},
     "output_type": "execute_result"
    }
   ],
   "source": [
    "# Suggestion 2 - How about a dictionary?\n",
    "molecule_sets = {}\n",
    "# Loop over names in data directory\n",
    "for molecule_set_name in os.listdir(data_dir):\n",
    "    # Assemble complete path of every file\n",
    "    molecule_set_path = os.path.join(data_dir, molecule_set_name)\n",
    "    # Read every sd file and add name-SDMolSupplier pair to dict\n",
    "    molecule_sets[molecule_set_name] = Chem.SDMolSupplier(molecule_set_path)\n",
    "\n",
    "molecule_sets"
   ]
  },
  {
   "cell_type": "markdown",
   "id": "583e7cf5",
   "metadata": {},
   "source": [
    "### Get identifier lists from SDMolSupplier objects"
   ]
  },
  {
   "cell_type": "code",
   "execution_count": 6,
   "id": "8d9aabcb",
   "metadata": {},
   "outputs": [],
   "source": [
    "'''SDF in InChiKey-Liste umwandeln'''\n",
    "\n",
    "# 1 - English!\n",
    "# 2 - Use descriptive names\n",
    "# 3 - Avoid redundancy\n",
    "# 4 - Typing can be useful\n",
    "# 5 - Docstrings!\n",
    "# 6 - Is the InChI key really what we want here?\n",
    "\n",
    "\n",
    "def inchiliste(Datensatz, Vergleich = \"InChi\"):\n",
    "    liste = []\n",
    "    if Vergleich == \"Smiles\":\n",
    "        for mol in Datensatz:\n",
    "            smiles = Chem.MolToSmiles(mol)\n",
    "            liste.append(smiles)\n",
    "    else:\n",
    "        for mol in Datensatz:\n",
    "            inchikey = Chem.MolToInchiKey(mol)\n",
    "            liste.append(inchikey)\n",
    "    return liste"
   ]
  },
  {
   "cell_type": "code",
   "execution_count": 7,
   "id": "0422a07e",
   "metadata": {},
   "outputs": [
    {
     "ename": "NameError",
     "evalue": "name 'set1' is not defined",
     "output_type": "error",
     "traceback": [
      "\u001b[1;31m---------------------------------------------------------------------------\u001b[0m",
      "\u001b[1;31mNameError\u001b[0m                                 Traceback (most recent call last)",
      "\u001b[1;32m<ipython-input-7-1be22e96192d>\u001b[0m in \u001b[0;36m<module>\u001b[1;34m\u001b[0m\n\u001b[1;32m----> 1\u001b[1;33m \u001b[0mliste1\u001b[0m \u001b[1;33m=\u001b[0m \u001b[0minchiliste\u001b[0m\u001b[1;33m(\u001b[0m\u001b[0mset1\u001b[0m\u001b[1;33m)\u001b[0m\u001b[1;33m\u001b[0m\u001b[1;33m\u001b[0m\u001b[0m\n\u001b[0m\u001b[0;32m      2\u001b[0m \u001b[0mliste2\u001b[0m \u001b[1;33m=\u001b[0m \u001b[0minchiliste\u001b[0m\u001b[1;33m(\u001b[0m\u001b[0mset2\u001b[0m\u001b[1;33m)\u001b[0m\u001b[1;33m\u001b[0m\u001b[1;33m\u001b[0m\u001b[0m\n\u001b[0;32m      3\u001b[0m \u001b[0mliste3\u001b[0m \u001b[1;33m=\u001b[0m \u001b[0minchiliste\u001b[0m\u001b[1;33m(\u001b[0m\u001b[0mset3\u001b[0m\u001b[1;33m)\u001b[0m\u001b[1;33m\u001b[0m\u001b[1;33m\u001b[0m\u001b[0m\n\u001b[0;32m      4\u001b[0m \u001b[0mliste4\u001b[0m \u001b[1;33m=\u001b[0m \u001b[0minchiliste\u001b[0m\u001b[1;33m(\u001b[0m\u001b[0mset4\u001b[0m\u001b[1;33m)\u001b[0m\u001b[1;33m\u001b[0m\u001b[1;33m\u001b[0m\u001b[0m\n",
      "\u001b[1;31mNameError\u001b[0m: name 'set1' is not defined"
     ]
    }
   ],
   "source": [
    "liste1 = inchiliste(set1)\n",
    "liste2 = inchiliste(set2)\n",
    "liste3 = inchiliste(set3)\n",
    "liste4 = inchiliste(set4)"
   ]
  },
  {
   "cell_type": "code",
   "execution_count": 9,
   "id": "25dacc23",
   "metadata": {},
   "outputs": [],
   "source": [
    "# Ressource for naming conventions\n",
    "# https://realpython.com/python-pep8/#naming-styles\n",
    "\n",
    "def get_identifier_list(\n",
    "    molecule_set: Chem.SDMolSupplier, \n",
    "    id_type : str = \"InChIKey\"\n",
    "    ) -> List[str]:\n",
    "    \"\"\"\n",
    "    This function returns a list of Chemical InChi or Smiles str for all molecules\n",
    "    in a given SDMolSupplier object.\n",
    "\n",
    "    Args:\n",
    "        molecule_set (rdkit.Chem.SDMolSupplier):\n",
    "        id_type (str, optional): \"InChIKey\" or \" \"Smiles\". Defaults to \"InChIKey\".\n",
    "\n",
    "    Raises:\n",
    "        ValueError: if ID_type is not \"InChIKey\" or \"Smiles\"\n",
    "\n",
    "    Returns:\n",
    "        List[str]: List of identifiers based on given molecules\n",
    "    \"\"\"\n",
    "    identifier_list = []\n",
    "    for mol in molecule_set:\n",
    "        if id_type == \"Smiles\":\n",
    "            identifier = Chem.MolToSmiles(mol)\n",
    "        elif id_type == \"InChIKey\":\n",
    "            identifier = Chem.MolToInchiKey(mol)\n",
    "        else:\n",
    "            raise ValueError('id_type argument needs to be \"Smiles\" or \"InChIKey\"!')\n",
    "        identifier_list.append(identifier)\n",
    "    return identifier_list\n",
    "    "
   ]
  },
  {
   "cell_type": "code",
   "execution_count": 10,
   "id": "79807fbf",
   "metadata": {},
   "outputs": [
    {
     "data": {
      "text/plain": [
       "[['MVPPADPHJFYWMZ-UHFFFAOYSA-N',\n",
       "  'OCJBOOLMMGQPQU-UHFFFAOYSA-N',\n",
       "  'PBKONEOXTCPAFI-UHFFFAOYSA-N',\n",
       "  'RFFLAFLAYFXFSW-UHFFFAOYSA-N',\n",
       "  'ZPQOPVIELGIULI-UHFFFAOYSA-N',\n",
       "  'HFZWRUODUSTPEG-UHFFFAOYSA-N',\n",
       "  'HOLHYSJJBXSLMV-UHFFFAOYSA-N',\n",
       "  'HORNXRXVQWOLPJ-UHFFFAOYSA-N',\n",
       "  'ISPYQTSUDJAMAB-UHFFFAOYSA-N',\n",
       "  'RANCECPPZPIPNO-UHFFFAOYSA-N',\n",
       "  'UMPSXRYVXUPCOS-UHFFFAOYSA-N',\n",
       "  'WDNBURPWRNALGP-UHFFFAOYSA-N',\n",
       "  'WXNZTHHGJRFXKQ-UHFFFAOYSA-N',\n",
       "  'YOYAIZYFCNQIRF-UHFFFAOYSA-N',\n",
       "  'ACMJJQYSPUPMPN-UHFFFAOYSA-N',\n",
       "  'AJPXTSMULZANCB-UHFFFAOYSA-N',\n",
       "  'AVYGCQXNNJPXSS-UHFFFAOYSA-N',\n",
       "  'BRPSAOUFIJSKOT-UHFFFAOYSA-N',\n",
       "  'CSFDTBRRIBJILD-UHFFFAOYSA-N',\n",
       "  'FPYUJUBAXZAQNL-UHFFFAOYSA-N',\n",
       "  'JCYROOANFKVAIB-UHFFFAOYSA-N',\n",
       "  'JDMFXJULNGEPOI-UHFFFAOYSA-N',\n",
       "  'KQCMTOWTPBNWDB-UHFFFAOYSA-N',\n",
       "  'LULAYUGMBFYYEX-UHFFFAOYSA-M',\n",
       "  'NGIRMPARLVGMPX-UHFFFAOYSA-M',\n",
       "  'PNPCRKVUWYDDST-UHFFFAOYSA-N',\n",
       "  'SRWILAKSARHZPR-UHFFFAOYSA-N',\n",
       "  'VWUFOZAFKYOZJB-UHFFFAOYSA-N',\n",
       "  'XRAKCYJTJGTSMM-UHFFFAOYSA-N',\n",
       "  'XWBTZHDDWRNOQH-UHFFFAOYSA-N',\n",
       "  'YSEMCVGMNUUNRK-UHFFFAOYSA-N',\n",
       "  'ZJLAWMDJTMMTQB-UHFFFAOYSA-N',\n",
       "  'ZWUSBSHBFFPRNE-UHFFFAOYSA-N',\n",
       "  'ATCRIUVQKHMXSH-UHFFFAOYSA-N',\n",
       "  'BOFRXDMCQRTGII-UHFFFAOYSA-N',\n",
       "  'CFKMVGJGLGKFKI-UHFFFAOYSA-M',\n",
       "  'CSUUXPHPCXHYGY-UHFFFAOYSA-N',\n",
       "  'DGRVQOKCSKDWIH-UHFFFAOYSA-N',\n",
       "  'GKFFFNUVYUGXEW-UHFFFAOYSA-N',\n",
       "  'IBSQPLPBRSHTTG-UHFFFAOYSA-N',\n",
       "  'IKCLCGXPQILATA-UHFFFAOYSA-N',\n",
       "  'LULAYUGMBFYYEX-UHFFFAOYSA-N',\n",
       "  'MRSHZFYWLHRVTR-UHFFFAOYSA-N',\n",
       "  'NPDACUSDTOMAMK-UHFFFAOYSA-N',\n",
       "  'NWSIFTLPLKCTSX-UHFFFAOYSA-N',\n",
       "  'OZFQMHJKAODEON-UHFFFAOYSA-N',\n",
       "  'QULYNCCPRWKEMF-UHFFFAOYSA-N',\n",
       "  'RTIPTGMVQIIMKL-UHFFFAOYSA-N',\n",
       "  'TZCYLJGNWDVJRA-UHFFFAOYSA-N',\n",
       "  'TZFWDZFKRBELIQ-UHFFFAOYSA-N',\n",
       "  'WYUIWKFIFOJVKW-UHFFFAOYSA-N',\n",
       "  'XRHGYUZYPHTUJZ-UHFFFAOYSA-N',\n",
       "  'YTCGOUNVIAWCMG-UHFFFAOYSA-N',\n",
       "  'AQJFATAFTQCRGC-UHFFFAOYSA-N',\n",
       "  'CFKMVGJGLGKFKI-UHFFFAOYSA-N',\n",
       "  'CVFVXCYDOOGQCJ-UHFFFAOYSA-N',\n",
       "  'GHGPIPTUDQZJJS-UHFFFAOYSA-N',\n",
       "  'JHSPCUHPSIUQRB-UHFFFAOYSA-N',\n",
       "  'JPBNMRDGFBFKLT-YFHOEESVSA-N',\n",
       "  'KGKGSIUWJCAFPX-UHFFFAOYSA-N',\n",
       "  'KWIXNFOTNVKIGM-UHFFFAOYSA-N',\n",
       "  'KZLMCDNAVVJKPX-UHFFFAOYSA-N',\n",
       "  'LKWQNMIDLFGETG-UHFFFAOYSA-N',\n",
       "  'MJTGQALMWUUPQM-UHFFFAOYSA-N',\n",
       "  'OBJHLLOVMKKXDI-ONNFQVAWSA-N',\n",
       "  'PBGKNXWGYQPUJK-UHFFFAOYSA-N',\n",
       "  'QASFEHCRPLPGES-UHFFFAOYSA-N',\n",
       "  'QCUMZSUSWPARLQ-UHFFFAOYSA-N',\n",
       "  'QGNLHMKIGMZKJX-UHFFFAOYSA-N',\n",
       "  'QKWBTCRVPQHOMT-WEVVVXLNSA-N',\n",
       "  'RKCGJVGMRPKPNY-UHFFFAOYSA-N',\n",
       "  'ROBIUDOANJUDHD-ONNFQVAWSA-N',\n",
       "  'RWKKEILFRAYSDQ-UHFFFAOYSA-N',\n",
       "  'VISJRVXHPNMYRH-UHFFFAOYSA-N',\n",
       "  'VYZAHLCBVHPDDF-UHFFFAOYSA-N',\n",
       "  'YGCODSQDUUUKIV-UHFFFAOYSA-N',\n",
       "  'YUKILTJWFRTXGB-UHFFFAOYSA-N',\n",
       "  'YVMFEDFGLONICM-UHFFFAOYSA-N',\n",
       "  'ZCWXYZBQDNFULS-UHFFFAOYSA-N',\n",
       "  'ZTIPZBJOLLKLTB-UHFFFAOYSA-N',\n",
       "  'BGDCQZFFNFXYQC-UHFFFAOYSA-N',\n",
       "  'CSEMGLVHVZRXQF-UHFFFAOYSA-N',\n",
       "  'CXNVOWPRHWWCQR-UHFFFAOYSA-N',\n",
       "  'DNVGZKIRMBCQEQ-UHFFFAOYSA-N',\n",
       "  'GAWCRULEMQFHTI-UHFFFAOYSA-N',\n",
       "  'HIHCTGNZNHSZPP-UHFFFAOYSA-N',\n",
       "  'HUMZENGQNOATEQ-UHFFFAOYSA-M',\n",
       "  'HXEWMTXDBOQQKO-UHFFFAOYSA-N',\n",
       "  'LWUAMROXVQLJKA-UHFFFAOYSA-N',\n",
       "  'NDLLKGKHHLXJDU-UHFFFAOYSA-N',\n",
       "  'PCJPESKRPOTNGU-UHFFFAOYSA-N',\n",
       "  'RQKFYFNZSHWXAW-UHFFFAOYSA-N',\n",
       "  'SQFLFRQWPBEDHM-UHFFFAOYSA-N',\n",
       "  'VFZQATFTQAZCMO-UHFFFAOYSA-N',\n",
       "  'WCIMKEGMFYKKSQ-UHFFFAOYSA-N',\n",
       "  'XGYLSRFSXKAYCR-UHFFFAOYSA-N',\n",
       "  'ZILSBPAUJJBEFF-UHFFFAOYSA-N',\n",
       "  'ZPNJDGLWSCMYIJ-UHFFFAOYSA-N',\n",
       "  'ZUVPLKVDZNDZCM-UHFFFAOYSA-N',\n",
       "  'BZCOHGUBYSDFET-UHFFFAOYSA-N'],\n",
       " ['FAXWFCTVSHEODL-UHFFFAOYSA-N',\n",
       "  'GZFGOTFRPZRKDS-UHFFFAOYSA-N',\n",
       "  'HFZWRUODUSTPEG-UHFFFAOYSA-N',\n",
       "  'HORNXRXVQWOLPJ-UHFFFAOYSA-N',\n",
       "  'HUVAOAVBKOVPBZ-UHFFFAOYSA-N',\n",
       "  'ISPYQTSUDJAMAB-UHFFFAOYSA-N',\n",
       "  'ISWSIDIOOBJBQZ-UHFFFAOYSA-N',\n",
       "  'MEYRABVEYCFHHB-UHFFFAOYSA-N',\n",
       "  'MRQYTJXVULSNIS-UHFFFAOYSA-N',\n",
       "  'RANCECPPZPIPNO-UHFFFAOYSA-N',\n",
       "  'RHMPLDJJXGPMEX-UHFFFAOYSA-N',\n",
       "  'RYVOZMPTISNBDB-UHFFFAOYSA-N',\n",
       "  'UMPSXRYVXUPCOS-UHFFFAOYSA-N',\n",
       "  'VADKRMSMGWJZCF-UHFFFAOYSA-N',\n",
       "  'WDNBURPWRNALGP-UHFFFAOYSA-N',\n",
       "  'WXNZTHHGJRFXKQ-UHFFFAOYSA-N',\n",
       "  'AJPXTSMULZANCB-UHFFFAOYSA-N',\n",
       "  'CVNOWLNNPYYEOH-UHFFFAOYSA-N',\n",
       "  'DXOSJQLIRGXWCF-UHFFFAOYSA-N',\n",
       "  'GHMLBKRAJCXXBS-UHFFFAOYSA-N',\n",
       "  'QIGBRXMKCJKVMJ-UHFFFAOYSA-N',\n",
       "  'REFDOIWRJDGBHY-UHFFFAOYSA-N',\n",
       "  'SGHBRHKBCLLVCI-UHFFFAOYSA-N',\n",
       "  'WTQZSMDDRMKJRI-UHFFFAOYSA-O',\n",
       "  'YCIMNLLNPGFGHC-UHFFFAOYSA-N',\n",
       "  'APGLXTXFTYAQKC-UHFFFAOYSA-N',\n",
       "  'BOFRXDMCQRTGII-UHFFFAOYSA-N',\n",
       "  'BTJIUGUIPKRLHP-UHFFFAOYSA-N',\n",
       "  'CDAWCLOXVUBKRW-UHFFFAOYSA-N',\n",
       "  'CWLKGDAVCFYWJK-UHFFFAOYSA-N',\n",
       "  'FMRRFPFZGPDDLZ-UHFFFAOYSA-N',\n",
       "  'GGNQRNBDZQJCCN-UHFFFAOYSA-N',\n",
       "  'IAVREABSGIHHMO-UHFFFAOYSA-N',\n",
       "  'IIDUNAVOCYMUFB-UHFFFAOYSA-N',\n",
       "  'IQUPABOKLQSFBK-UHFFFAOYSA-N',\n",
       "  'JFZAJWBGISKERI-UHFFFAOYSA-N',\n",
       "  'JMTMSDXUXJISAY-UHFFFAOYSA-N',\n",
       "  'MNPLTKHJEAFOCA-UHFFFAOYSA-N',\n",
       "  'MXJQJURZHQZLNN-UHFFFAOYSA-N',\n",
       "  'NUWHYWYSMAPBHK-UHFFFAOYSA-N',\n",
       "  'NWSIFTLPLKCTSX-UHFFFAOYSA-N',\n",
       "  'PLIKAWJENQZMHA-UHFFFAOYSA-N',\n",
       "  'QLDQYRDCPNBPII-UHFFFAOYSA-N',\n",
       "  'RGHHSNMVTDWUBI-UHFFFAOYSA-N',\n",
       "  'RGHHSNMVTDWUBI-UHFFFAOYSA-N',\n",
       "  'SLYPOVJCSQHITR-UHFFFAOYSA-N',\n",
       "  'SMQUZDBALVYZAC-UHFFFAOYSA-N',\n",
       "  'SMQUZDBALVYZAC-UHFFFAOYSA-N',\n",
       "  'ULDFRPKVIZMKJG-UHFFFAOYSA-N',\n",
       "  'UOTMHAOCAJROQF-UHFFFAOYSA-N',\n",
       "  'UVSNFZAOYHOOJO-UHFFFAOYSA-N',\n",
       "  'WQGWDDDVZFFDIG-UHFFFAOYSA-N',\n",
       "  'XJNPNXSISMKQEX-UHFFFAOYSA-M',\n",
       "  'ZHRLVDHMIJDWSS-UHFFFAOYSA-N',\n",
       "  'AJKGBJQEFCGNJD-UHFFFAOYSA-N',\n",
       "  'AKEUNCKRJATALU-UHFFFAOYSA-M',\n",
       "  'AQJFATAFTQCRGC-UHFFFAOYSA-N',\n",
       "  'BSVWKKOEZYADMB-UHFFFAOYSA-N',\n",
       "  'CFBCZETZIPZOGW-UHFFFAOYSA-N',\n",
       "  'CFKMVGJGLGKFKI-UHFFFAOYSA-N',\n",
       "  'CLFRCXCBWIQVRN-UHFFFAOYSA-N',\n",
       "  'CYEZXDVLBGFROE-UHFFFAOYSA-N',\n",
       "  'FJKROLUGYXJWQN-UHFFFAOYSA-N',\n",
       "  'GLDQAMYCGOIJDV-UHFFFAOYSA-M',\n",
       "  'GPOQODYGMUTOQL-UHFFFAOYSA-N',\n",
       "  'IBGBGRVKPALMCQ-UHFFFAOYSA-N',\n",
       "  'IJFXRHURBJZNAO-UHFFFAOYSA-N',\n",
       "  'IOAXKKHMBVTXJX-UHFFFAOYSA-N',\n",
       "  'IULJSGIJJZZUMF-UHFFFAOYSA-M',\n",
       "  'IUNJCFABHJZSKB-UHFFFAOYSA-N',\n",
       "  'IWDCLRJOBJJRNH-UHFFFAOYSA-N',\n",
       "  'IXWOUPGDGMCKGT-UHFFFAOYSA-N',\n",
       "  'FQQLTMZQXMRQSD-UHFFFAOYSA-N',\n",
       "  'IZFOPMSVNDORMZ-UHFFFAOYSA-N',\n",
       "  'KRKSOBREFNTJJY-UHFFFAOYSA-N',\n",
       "  'LUSZGTFNYDARNI-UHFFFAOYSA-N',\n",
       "  'MALRSNNIMCSHEP-UHFFFAOYSA-N',\n",
       "  'QGNLHMKIGMZKJX-UHFFFAOYSA-N',\n",
       "  'QWVGKYWNOKOFNN-UHFFFAOYSA-N',\n",
       "  'RLSSMJSEOOYNOY-UHFFFAOYSA-N',\n",
       "  'SBXKRBZKPQBLOD-UHFFFAOYSA-N',\n",
       "  'UIAFKZKHHVMJGS-UHFFFAOYSA-M',\n",
       "  'UVJMVWURCUYFFK-UHFFFAOYSA-N',\n",
       "  'VIIYYMZOGKODQG-UHFFFAOYSA-N',\n",
       "  'VTLSGZWUFXMAOD-UHFFFAOYSA-L',\n",
       "  'WXTMDXOMEHJXQO-UHFFFAOYSA-M',\n",
       "  'XIYXDPMPFOQCFW-UHFFFAOYSA-N',\n",
       "  'XJNPNXSISMKQEX-UHFFFAOYSA-N',\n",
       "  'XMEQDAIDOBVHEK-UHFFFAOYSA-N',\n",
       "  'YGSDEFSMJLZEOE-UHFFFAOYSA-N',\n",
       "  'YQUVCSBJEUQKSH-UHFFFAOYSA-M',\n",
       "  'AKEUNCKRJATALU-UHFFFAOYSA-N',\n",
       "  'ASHGTJPOSUFTGB-UHFFFAOYSA-N',\n",
       "  'AYKYOOPFBCOXSL-UHFFFAOYSA-N',\n",
       "  'BVJSUAQZOZWCKN-UHFFFAOYSA-N',\n",
       "  'CNHDIAIOKMXOLK-UHFFFAOYSA-N',\n",
       "  'CQRYARSYNCAZFO-UHFFFAOYSA-N',\n",
       "  'CRPNQSVBEWWHIJ-UHFFFAOYSA-N',\n",
       "  'DCGLLVNYKPKJDK-UHFFFAOYSA-N',\n",
       "  'DWTFHAFMPRANQN-UHFFFAOYSA-N']]"
      ]
     },
     "execution_count": 10,
     "metadata": {},
     "output_type": "execute_result"
    }
   ],
   "source": [
    "identifier_lists = []\n",
    "for mol_set_name in molecule_sets.keys():\n",
    "    identifier_list = get_identifier_list(molecule_sets[mol_set_name])\n",
    "    identifier_lists.append(identifier_list)\n",
    "identifier_lists\n"
   ]
  },
  {
   "cell_type": "code",
   "execution_count": 11,
   "id": "6ed84006",
   "metadata": {},
   "outputs": [
    {
     "ename": "ValueError",
     "evalue": "id_type argument needs to be \"Smiles\" or \"InChIKey\"!",
     "output_type": "error",
     "traceback": [
      "\u001b[1;31m---------------------------------------------------------------------------\u001b[0m",
      "\u001b[1;31mValueError\u001b[0m                                Traceback (most recent call last)",
      "\u001b[1;32m<ipython-input-11-7954a4efefdc>\u001b[0m in \u001b[0;36m<module>\u001b[1;34m\u001b[0m\n\u001b[1;32m----> 1\u001b[1;33m \u001b[0mget_identifier_list\u001b[0m\u001b[1;33m(\u001b[0m\u001b[0mmol_set_name\u001b[0m\u001b[1;33m,\u001b[0m \u001b[1;34m\"IUPAC_name\"\u001b[0m\u001b[1;33m)\u001b[0m\u001b[1;33m\u001b[0m\u001b[1;33m\u001b[0m\u001b[0m\n\u001b[0m",
      "\u001b[1;32m<ipython-input-9-2059916d7a59>\u001b[0m in \u001b[0;36mget_identifier_list\u001b[1;34m(molecule_set, id_type)\u001b[0m\n\u001b[0;32m     27\u001b[0m             \u001b[0midentifier\u001b[0m \u001b[1;33m=\u001b[0m \u001b[0mChem\u001b[0m\u001b[1;33m.\u001b[0m\u001b[0mMolToInchiKey\u001b[0m\u001b[1;33m(\u001b[0m\u001b[0mmol\u001b[0m\u001b[1;33m)\u001b[0m\u001b[1;33m\u001b[0m\u001b[1;33m\u001b[0m\u001b[0m\n\u001b[0;32m     28\u001b[0m         \u001b[1;32melse\u001b[0m\u001b[1;33m:\u001b[0m\u001b[1;33m\u001b[0m\u001b[1;33m\u001b[0m\u001b[0m\n\u001b[1;32m---> 29\u001b[1;33m             \u001b[1;32mraise\u001b[0m \u001b[0mValueError\u001b[0m\u001b[1;33m(\u001b[0m\u001b[1;34m'id_type argument needs to be \"Smiles\" or \"InChIKey\"!'\u001b[0m\u001b[1;33m)\u001b[0m\u001b[1;33m\u001b[0m\u001b[1;33m\u001b[0m\u001b[0m\n\u001b[0m\u001b[0;32m     30\u001b[0m         \u001b[0midentifier_list\u001b[0m\u001b[1;33m.\u001b[0m\u001b[0mappend\u001b[0m\u001b[1;33m(\u001b[0m\u001b[0midentifier\u001b[0m\u001b[1;33m)\u001b[0m\u001b[1;33m\u001b[0m\u001b[1;33m\u001b[0m\u001b[0m\n\u001b[0;32m     31\u001b[0m     \u001b[1;32mreturn\u001b[0m \u001b[0midentifier_list\u001b[0m\u001b[1;33m\u001b[0m\u001b[1;33m\u001b[0m\u001b[0m\n",
      "\u001b[1;31mValueError\u001b[0m: id_type argument needs to be \"Smiles\" or \"InChIKey\"!"
     ]
    }
   ],
   "source": [
    "get_identifier_list(mol_set_name, \"IUPAC_name\")"
   ]
  },
  {
   "cell_type": "code",
   "execution_count": 21,
   "id": "2f31d58f",
   "metadata": {},
   "outputs": [],
   "source": []
  },
  {
   "cell_type": "markdown",
   "id": "cf68d7f3",
   "metadata": {},
   "source": [
    "### Creation of Venn diagrams for molecule set comparison"
   ]
  },
  {
   "cell_type": "code",
   "execution_count": 12,
   "id": "262d335a",
   "metadata": {},
   "outputs": [
    {
     "ename": "NameError",
     "evalue": "name 'liste1' is not defined",
     "output_type": "error",
     "traceback": [
      "\u001b[1;31m---------------------------------------------------------------------------\u001b[0m",
      "\u001b[1;31mNameError\u001b[0m                                 Traceback (most recent call last)",
      "\u001b[1;32m<ipython-input-12-9c5a22b8790d>\u001b[0m in \u001b[0;36m<module>\u001b[1;34m\u001b[0m\n\u001b[0;32m      9\u001b[0m     \u001b[1;32mreturn\u001b[0m \u001b[0mlen\u001b[0m\u001b[1;33m(\u001b[0m\u001b[0ms_all\u001b[0m\u001b[1;33m)\u001b[0m\u001b[1;33m\u001b[0m\u001b[1;33m\u001b[0m\u001b[0m\n\u001b[0;32m     10\u001b[0m \u001b[1;33m\u001b[0m\u001b[0m\n\u001b[1;32m---> 11\u001b[1;33m \u001b[0mvergleich\u001b[0m\u001b[1;33m(\u001b[0m\u001b[0mliste1\u001b[0m\u001b[1;33m,\u001b[0m \u001b[0mliste2\u001b[0m\u001b[1;33m,\u001b[0m \u001b[0mliste3\u001b[0m\u001b[1;33m)\u001b[0m\u001b[1;33m\u001b[0m\u001b[1;33m\u001b[0m\u001b[0m\n\u001b[0m",
      "\u001b[1;31mNameError\u001b[0m: name 'liste1' is not defined"
     ]
    }
   ],
   "source": [
    "'''Vergleich zwischen drei Listen'''\n",
    "\n",
    "def vergleich(list1, list2, list3):\n",
    "    s1 = set(list1)\n",
    "    s2 = set(list2)\n",
    "    s3 = set(list3)\n",
    "    s_all = set.intersection(s1, s2, s3)\n",
    "    venn3([s1, s2, s3])\n",
    "    return len(s_all) \n",
    "\n",
    "vergleich(liste1, liste2, liste3)"
   ]
  },
  {
   "cell_type": "code",
   "execution_count": 13,
   "id": "557d5e56",
   "metadata": {},
   "outputs": [
    {
     "ename": "NameError",
     "evalue": "name 'liste2' is not defined",
     "output_type": "error",
     "traceback": [
      "\u001b[1;31m---------------------------------------------------------------------------\u001b[0m",
      "\u001b[1;31mNameError\u001b[0m                                 Traceback (most recent call last)",
      "\u001b[1;32m<ipython-input-13-c2e7d5e8a472>\u001b[0m in \u001b[0;36m<module>\u001b[1;34m\u001b[0m\n\u001b[0;32m     18\u001b[0m         \u001b[1;32mreturn\u001b[0m \u001b[1;34m'Kein Vergleich'\u001b[0m\u001b[1;33m\u001b[0m\u001b[1;33m\u001b[0m\u001b[0m\n\u001b[0;32m     19\u001b[0m \u001b[1;33m\u001b[0m\u001b[0m\n\u001b[1;32m---> 20\u001b[1;33m \u001b[0mvergleich2\u001b[0m\u001b[1;33m(\u001b[0m\u001b[0mliste2\u001b[0m\u001b[1;33m,\u001b[0m \u001b[0mliste1\u001b[0m\u001b[1;33m,\u001b[0m \u001b[1;32mFalse\u001b[0m\u001b[1;33m)\u001b[0m\u001b[1;33m\u001b[0m\u001b[1;33m\u001b[0m\u001b[0m\n\u001b[0m",
      "\u001b[1;31mNameError\u001b[0m: name 'liste2' is not defined"
     ]
    }
   ],
   "source": [
    "'Vergleich zwischen zwei oder drei Listen'\n",
    "\n",
    "def vergleich2(list1, list2, list3):\n",
    "    if list3:\n",
    "        s1 = set(list1)\n",
    "        s2 = set(list2)\n",
    "        s3 = set(list3)\n",
    "        s_all = set.intersection(s1, s2, s3)\n",
    "        venn3([s1, s2, s3])\n",
    "        return len(s_all)\n",
    "    elif list2:\n",
    "        s1 = set(list1)\n",
    "        s2 = set(list2)\n",
    "        s_all = set.intersection(s1, s2)\n",
    "        venn2([s1, s2])\n",
    "        return len(s_all)\n",
    "    else:\n",
    "        return 'Kein Vergleich'\n",
    "    \n",
    "vergleich2(liste2, liste1, False)"
   ]
  },
  {
   "cell_type": "code",
   "execution_count": 27,
   "id": "79775d95",
   "metadata": {},
   "outputs": [],
   "source": [
    "class WrongInputError(Exception):\n",
    "    pass\n",
    "\n",
    "def get_intersection(\n",
    "    *args: List[Any]\n",
    "    ) -> set:\n",
    "    \"\"\"\n",
    "    This function takes two or three lists of any type and returns the\n",
    "    set of elements that are in all given lists. Additionally, it generates\n",
    "    a venn diagram which is displayed when this function is called in a \n",
    "    Jupyter Notebook.\n",
    "\n",
    "    Raises:\n",
    "        Exception: An exception is raised if there are not two or three lists.\n",
    "\n",
    "    Returns:\n",
    "        set: Set of elements in intersection\n",
    "    \"\"\"\n",
    "    sets = [set(arg) for arg in args]\n",
    "    if len(args) == 2:\n",
    "        venn2(sets)\n",
    "    elif len(args) == 3:\n",
    "        venn3(sets)\n",
    "    else:\n",
    "        raise WrongInputError('The number of given sets needs to be 2 or 3.')\n",
    "    plt.show()\n",
    "    return set.intersection(*sets)\n",
    "    "
   ]
  },
  {
   "cell_type": "code",
   "execution_count": 28,
   "id": "8451e9d0",
   "metadata": {},
   "outputs": [
    {
     "data": {
      "image/png": "[encoded data removed]",
      "text/plain": [
       "<Figure size 640x480 with 1 Axes>"
      ]
     },
     "metadata": {},
     "output_type": "display_data"
    },
    {
     "data": {
      "text/plain": [
       "{'AJPXTSMULZANCB-UHFFFAOYSA-N',\n",
       " 'AQJFATAFTQCRGC-UHFFFAOYSA-N',\n",
       " 'BOFRXDMCQRTGII-UHFFFAOYSA-N',\n",
       " 'CFKMVGJGLGKFKI-UHFFFAOYSA-N',\n",
       " 'HFZWRUODUSTPEG-UHFFFAOYSA-N',\n",
       " 'HORNXRXVQWOLPJ-UHFFFAOYSA-N',\n",
       " 'ISPYQTSUDJAMAB-UHFFFAOYSA-N',\n",
       " 'NWSIFTLPLKCTSX-UHFFFAOYSA-N',\n",
       " 'QGNLHMKIGMZKJX-UHFFFAOYSA-N',\n",
       " 'RANCECPPZPIPNO-UHFFFAOYSA-N',\n",
       " 'UMPSXRYVXUPCOS-UHFFFAOYSA-N',\n",
       " 'WDNBURPWRNALGP-UHFFFAOYSA-N',\n",
       " 'WXNZTHHGJRFXKQ-UHFFFAOYSA-N'}"
      ]
     },
     "execution_count": 28,
     "metadata": {},
     "output_type": "execute_result"
    }
   ],
   "source": [
    "get_intersection(*identifier_lists)"
   ]
  },
  {
   "cell_type": "code",
   "execution_count": 29,
   "id": "c5abc90d",
   "metadata": {},
   "outputs": [
    {
     "data": {
      "image/png": "[encoded data removed]",
      "text/plain": [
       "<Figure size 640x480 with 1 Axes>"
      ]
     },
     "metadata": {},
     "output_type": "display_data"
    },
    {
     "data": {
      "text/plain": [
       "{2, 3}"
      ]
     },
     "execution_count": 29,
     "metadata": {},
     "output_type": "execute_result"
    }
   ],
   "source": [
    "get_intersection([1,2,3], [2,3,4])"
   ]
  },
  {
   "cell_type": "code",
   "execution_count": 30,
   "id": "34cf7243",
   "metadata": {},
   "outputs": [
    {
     "name": "stderr",
     "output_type": "stream",
     "text": [
      "C:\\Users\\Otto Brinkhaus\\anaconda3\\envs\\chem40\\lib\\site-packages\\matplotlib_venn\\_venn3.py:117: UserWarning: Bad circle positioning\n",
      "  warnings.warn(\"Bad circle positioning\")\n"
     ]
    },
    {
     "data": {
      "image/png": "[encoded data removed]",
      "text/plain": [
       "<Figure size 640x480 with 1 Axes>"
      ]
     },
     "metadata": {},
     "output_type": "display_data"
    },
    {
     "data": {
      "text/plain": [
       "{3}"
      ]
     },
     "execution_count": 30,
     "metadata": {},
     "output_type": "execute_result"
    }
   ],
   "source": [
    "get_intersection([1,2,3], [2,3,4], [3,4,5])"
   ]
  },
  {
   "cell_type": "code",
   "execution_count": 31,
   "id": "2f9f9c28",
   "metadata": {},
   "outputs": [
    {
     "ename": "WrongInputError",
     "evalue": "The number of given sets needs to be 2 or 3.",
     "output_type": "error",
     "traceback": [
      "\u001b[1;31m---------------------------------------------------------------------------\u001b[0m",
      "\u001b[1;31mWrongInputError\u001b[0m                           Traceback (most recent call last)",
      "\u001b[1;32m<ipython-input-31-2ce35e0351d7>\u001b[0m in \u001b[0;36m<module>\u001b[1;34m\u001b[0m\n\u001b[1;32m----> 1\u001b[1;33m \u001b[0mget_intersection\u001b[0m\u001b[1;33m(\u001b[0m\u001b[1;33m[\u001b[0m\u001b[1;36m1\u001b[0m\u001b[1;33m,\u001b[0m\u001b[1;36m2\u001b[0m\u001b[1;33m]\u001b[0m\u001b[1;33m,\u001b[0m \u001b[1;33m[\u001b[0m\u001b[1;36m3\u001b[0m\u001b[1;33m,\u001b[0m\u001b[1;36m4\u001b[0m\u001b[1;33m]\u001b[0m\u001b[1;33m,\u001b[0m \u001b[1;33m[\u001b[0m\u001b[1;36m5\u001b[0m\u001b[1;33m,\u001b[0m\u001b[1;36m6\u001b[0m\u001b[1;33m]\u001b[0m\u001b[1;33m,\u001b[0m \u001b[1;33m[\u001b[0m\u001b[1;36m7\u001b[0m\u001b[1;33m,\u001b[0m\u001b[1;36m8\u001b[0m\u001b[1;33m]\u001b[0m\u001b[1;33m)\u001b[0m\u001b[1;33m\u001b[0m\u001b[1;33m\u001b[0m\u001b[0m\n\u001b[0m",
      "\u001b[1;32m<ipython-input-27-f044b00493d5>\u001b[0m in \u001b[0;36mget_intersection\u001b[1;34m(*args)\u001b[0m\n\u001b[0;32m     23\u001b[0m         \u001b[0mvenn3\u001b[0m\u001b[1;33m(\u001b[0m\u001b[0msets\u001b[0m\u001b[1;33m)\u001b[0m\u001b[1;33m\u001b[0m\u001b[1;33m\u001b[0m\u001b[0m\n\u001b[0;32m     24\u001b[0m     \u001b[1;32melse\u001b[0m\u001b[1;33m:\u001b[0m\u001b[1;33m\u001b[0m\u001b[1;33m\u001b[0m\u001b[0m\n\u001b[1;32m---> 25\u001b[1;33m         \u001b[1;32mraise\u001b[0m \u001b[0mWrongInputError\u001b[0m\u001b[1;33m(\u001b[0m\u001b[1;34m'The number of given sets needs to be 2 or 3.'\u001b[0m\u001b[1;33m)\u001b[0m\u001b[1;33m\u001b[0m\u001b[1;33m\u001b[0m\u001b[0m\n\u001b[0m\u001b[0;32m     26\u001b[0m     \u001b[0mplt\u001b[0m\u001b[1;33m.\u001b[0m\u001b[0mshow\u001b[0m\u001b[1;33m(\u001b[0m\u001b[1;33m)\u001b[0m\u001b[1;33m\u001b[0m\u001b[1;33m\u001b[0m\u001b[0m\n\u001b[0;32m     27\u001b[0m     \u001b[1;32mreturn\u001b[0m \u001b[0mset\u001b[0m\u001b[1;33m.\u001b[0m\u001b[0mintersection\u001b[0m\u001b[1;33m(\u001b[0m\u001b[1;33m*\u001b[0m\u001b[0msets\u001b[0m\u001b[1;33m)\u001b[0m\u001b[1;33m\u001b[0m\u001b[1;33m\u001b[0m\u001b[0m\n",
      "\u001b[1;31mWrongInputError\u001b[0m: The number of given sets needs to be 2 or 3."
     ]
    }
   ],
   "source": [
    "get_intersection([1,2], [3,4], [5,6], [7,8])"
   ]
  }
 ],
 "metadata": {
  "kernelspec": {
   "display_name": "Python 3 (ipykernel)",
   "language": "python",
   "name": "python3"
  },
  "language_info": {
   "codemirror_mode": {
    "name": "ipython",
    "version": 3
   },
   "file_extension": ".py",
   "mimetype": "text/x-python",
   "name": "python",
   "nbconvert_exporter": "python",
   "pygments_lexer": "ipython3",
   "version": "3.8.0"
  }
 },
 "nbformat": 4,
 "nbformat_minor": 5
}
